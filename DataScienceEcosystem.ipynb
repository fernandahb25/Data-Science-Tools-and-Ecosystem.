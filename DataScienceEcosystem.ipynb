{
  "metadata": {
    "language_info": {
      "codemirror_mode": {
        "name": "python",
        "version": 3
      },
      "file_extension": ".py",
      "mimetype": "text/x-python",
      "name": "python",
      "nbconvert_exporter": "python",
      "pygments_lexer": "ipython3",
      "version": "3.8"
    },
    "kernelspec": {
      "name": "python",
      "display_name": "Python (Pyodide)",
      "language": "python"
    }
  },
  "nbformat_minor": 4,
  "nbformat": 4,
  "cells": [
    {
      "cell_type": "markdown",
      "source": "# Data Science Tools and Ecosystem",
      "metadata": {}
    },
    {
      "cell_type": "markdown",
      "source": "This notebook contains information about data science tools and ecosystem.",
      "metadata": {}
    },
    {
      "cell_type": "markdown",
      "source": "**This booklet covers the following topics**\n* The most widely used languages in data science.\n* The libraries most used by data scientists.\n* Some of the most useful tools for data science",
      "metadata": {}
    },
    {
      "cell_type": "markdown",
      "source": "There are several languages that data scientists can use. The following are the most commonly used:\n* Python: It is a very famous and very adaptable programming language. It is very useful for processing data, implementing analytics algorithms, and training machine and deep learning models. Due to its ease of use, data scientists often prefer Python.\n* R: This language is very useful for statistical analysis, data visualization, and modeling. R is usually preferred for specific activities as it has specialized libraries.\n* SQL: SQL is very important for working with databases. It is used for querying, manipulating and managing data in relational environments.\n* Scala: It is run in the Java virtual machine. It is often used in large-scale data processing.\n* Julia: It's a somewhat new language. However; it offers similar performance and syntax to Python, but it's not as adaptable as R or Python.",
      "metadata": {}
    },
    {
      "cell_type": "markdown",
      "source": "Libraries are extremely useful because they allow data scientists to access specific functions without having to write all the code from scratch. Here are some of the most commonly used libraries for data science:\n* Pandas: It's a very popular and widely used open-source library in the field of data science and data analysis in the Python programming language. Pandas focuses on providing data structures and tools for data manipulation and analysis efficiently.\n* NumPy: It allows you to perform basic and sophisticated scientific calculations and matrix operations. Facilitates the processing of arrays that contain values of the same data type and the performance of arithmetic operations on arrays.\n* Matplotlib: It's a visualization library that allows you to create graphs, diagrams, and visualizations from data. Matplotlib is widely used in data science, engineering, scientific research, and many other disciplines.\n* TensorFlow: Is an open-source library developed by Google. TensorFlow is known for its ability to build and train machine learning and deep learning models in an efficient and scalable manner.",
      "metadata": {}
    },
    {
      "cell_type": "markdown",
      "source": "| Data Science Tools |\n----------------------\n| Jupyter Notebook |\n| RStudio |\n| Apache Spark |",
      "metadata": {}
    },
    {
      "cell_type": "markdown",
      "source": "### Below are a few examples of evaluating arithmetic expressions in Python",
      "metadata": {}
    },
    {
      "cell_type": "code",
      "source": "print (\"This a simple arithmetic expression to mutiply then add integers.\")\n(3*4)+5",
      "metadata": {
        "trusted": true
      },
      "execution_count": 12,
      "outputs": [
        {
          "name": "stdout",
          "text": "This a simple arithmetic expression to mutiply then add integers.\n",
          "output_type": "stream"
        },
        {
          "execution_count": 12,
          "output_type": "execute_result",
          "data": {
            "text/plain": "17"
          },
          "metadata": {}
        }
      ]
    },
    {
      "cell_type": "code",
      "source": "print (\"This will convert 200 minutes to hours by diving by 60.\")\n(200/60)",
      "metadata": {
        "trusted": true
      },
      "execution_count": 16,
      "outputs": [
        {
          "name": "stdout",
          "text": "This will convert 200 minutes to hours by diving by 60.\n",
          "output_type": "stream"
        },
        {
          "execution_count": 16,
          "output_type": "execute_result",
          "data": {
            "text/plain": "3.3333333333333335"
          },
          "metadata": {}
        }
      ]
    },
    {
      "cell_type": "markdown",
      "source": "## Autor\nMaría Fernanda Hurtado Bernal",
      "metadata": {}
    },
    {
      "cell_type": "code",
      "source": "",
      "metadata": {},
      "execution_count": null,
      "outputs": []
    }
  ]
}